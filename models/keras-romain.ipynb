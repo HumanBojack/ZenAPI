{
 "cells": [
  {
   "cell_type": "markdown",
   "metadata": {},
   "source": [
    "# Imports"
   ]
  },
  {
   "cell_type": "code",
   "execution_count": 80,
   "metadata": {},
   "outputs": [],
   "source": [
    "import pandas as pd\n",
    "import numpy as np\n",
    "import re\n",
    "\n",
    "import matplotlib.pyplot as plt\n",
    "plt.style.use('ggplot')\n",
    "\n",
    "from keras.models import Sequential\n",
    "from keras import layers # Dense, LSTM\n",
    "from keras.utils import np_utils\n",
    "from keras.callbacks import EarlyStopping\n",
    "\n",
    "from nltk.stem import WordNetLemmatizer\n",
    "from nltk.corpus import stopwords\n",
    "from nltk.tokenize import TweetTokenizer\n",
    "\n",
    "from sklearn.model_selection import train_test_split\n",
    "from sklearn.feature_extraction.text import CountVectorizer, TfidfVectorizer\n",
    "from sklearn.preprocessing import MultiLabelBinarizer, LabelEncoder"
   ]
  },
  {
   "cell_type": "code",
   "execution_count": 81,
   "metadata": {},
   "outputs": [],
   "source": [
    "kaggle_ds = pd.read_csv(\"data/kaggle_dataset.csv\")\n",
    "mac_ds = pd.read_csv(\"data/merged_and_cleaned.csv\")\n",
    "mac_rm_ds = pd.read_csv(\"data/merged_and_cleaned_rm.csv\")"
   ]
  },
  {
   "cell_type": "markdown",
   "metadata": {},
   "source": [
    "# First dataset"
   ]
  },
  {
   "cell_type": "code",
   "execution_count": 82,
   "metadata": {},
   "outputs": [],
   "source": [
    "def tweet_tokenizer(text):\n",
    "  text = re.sub(r'http\\S+', '', text)\n",
    "  tt = TweetTokenizer(reduce_len=True, strip_handles=True)\n",
    "  return tt.tokenize(text)\n",
    "\n",
    "class LemmaTokenizer(object):\n",
    "  def __init__(self):\n",
    "      self.wnl = WordNetLemmatizer()\n",
    "  def __call__(self, articles):\n",
    "      return [self.wnl.lemmatize(t) for t in tweet_tokenizer(articles)]"
   ]
  },
  {
   "cell_type": "code",
   "execution_count": 83,
   "metadata": {},
   "outputs": [],
   "source": [
    "X, y = kaggle_ds[\"Text\"], kaggle_ds[\"Emotion\"]\n",
    "X_train, X_test, y_train, y_test = train_test_split(X, y, random_state=42, stratify=y)"
   ]
  },
  {
   "cell_type": "code",
   "execution_count": 84,
   "metadata": {},
   "outputs": [],
   "source": [
    "stopwords = stopwords.words('english')\n",
    "vectorizer = CountVectorizer(stop_words=stopwords, tokenizer=LemmaTokenizer())"
   ]
  },
  {
   "cell_type": "code",
   "execution_count": 85,
   "metadata": {},
   "outputs": [
    {
     "name": "stderr",
     "output_type": "stream",
     "text": [
      "/Users/rom1/opt/anaconda3/envs/datascience/lib/python3.10/site-packages/sklearn/feature_extraction/text.py:396: UserWarning: Your stop_words may be inconsistent with your preprocessing. Tokenizing the stop words generated tokens ['doe', 'ha', 'wa'] not in stop_words.\n",
      "  warnings.warn(\n"
     ]
    }
   ],
   "source": [
    "X_matrix_train = vectorizer.fit_transform(X_train).toarray()\n",
    "X_matrix_test = vectorizer.transform(X_test).toarray()"
   ]
  },
  {
   "cell_type": "code",
   "execution_count": 86,
   "metadata": {},
   "outputs": [],
   "source": [
    "input_dim = X_matrix_train.shape[1]\n",
    "output_dim = len(kaggle_ds[\"Emotion\"].unique())\n",
    "\n",
    "# Je définis l'architecture de mon réseau de neurones\n",
    "model = Sequential()\n",
    "model.add(layers.Dense(10, input_dim=input_dim, activation='relu'))\n",
    "model.add(layers.Dense(10, activation='relu'))\n",
    "model.add(layers.Dense(10, activation='relu'))\n",
    "\n",
    "# Classification multinomial donc soft max et 4 classes à prédire donc 4 neuones\n",
    "# model.add(layers.Dropout(0.2))\n",
    "model.add(layers.Dense(6, activation='softmax')) # error when using the \"output_dim\" variable"
   ]
  },
  {
   "cell_type": "code",
   "execution_count": 87,
   "metadata": {},
   "outputs": [
    {
     "name": "stdout",
     "output_type": "stream",
     "text": [
      "Model: \"sequential_4\"\n",
      "_________________________________________________________________\n",
      " Layer (type)                Output Shape              Param #   \n",
      "=================================================================\n",
      " dense_16 (Dense)            (None, 10)                148170    \n",
      "                                                                 \n",
      " dense_17 (Dense)            (None, 10)                110       \n",
      "                                                                 \n",
      " dense_18 (Dense)            (None, 10)                110       \n",
      "                                                                 \n",
      " dense_19 (Dense)            (None, 6)                 66        \n",
      "                                                                 \n",
      "=================================================================\n",
      "Total params: 148,456\n",
      "Trainable params: 148,456\n",
      "Non-trainable params: 0\n",
      "_________________________________________________________________\n"
     ]
    }
   ],
   "source": [
    "model.compile(\"nadam\", \"sparse_categorical_crossentropy\", [\"accuracy\"])\n",
    "model.summary()"
   ]
  },
  {
   "cell_type": "code",
   "execution_count": 88,
   "metadata": {},
   "outputs": [],
   "source": [
    "# mlb = MultiLabelBinarizer(classes=y_train.unique())\n",
    "# y_matrix_train = mlb.fit_transform(y_train)\n",
    "# y_matrix_test = mlb.transform(y_test)\n",
    "\n",
    "lbe = LabelEncoder()\n",
    "y_matrix_train = lbe.fit_transform(y_train)\n",
    "y_matrix_test = lbe.transform(y_test)"
   ]
  },
  {
   "cell_type": "code",
   "execution_count": 89,
   "metadata": {},
   "outputs": [
    {
     "data": {
      "text/plain": [
       "array(['anger', 'fear', 'happy', 'love', 'sadness', 'surprise'],\n",
       "      dtype=object)"
      ]
     },
     "execution_count": 89,
     "metadata": {},
     "output_type": "execute_result"
    }
   ],
   "source": [
    "lbe.classes_"
   ]
  },
  {
   "cell_type": "code",
   "execution_count": 90,
   "metadata": {},
   "outputs": [
    {
     "data": {
      "text/plain": [
       "array([3, 2, 2, ..., 0, 2, 2])"
      ]
     },
     "execution_count": 90,
     "metadata": {},
     "output_type": "execute_result"
    }
   ],
   "source": [
    "y_matrix_train"
   ]
  },
  {
   "cell_type": "code",
   "execution_count": 91,
   "metadata": {},
   "outputs": [],
   "source": [
    "earlyStopping = EarlyStopping(\n",
    "    monitor=\"val_accuracy\",\n",
    "    min_delta=0.001,\n",
    "    patience=5,\n",
    "    verbose=0,\n",
    "    mode=\"auto\",\n",
    "    baseline=None,\n",
    "    restore_best_weights=True,\n",
    ")"
   ]
  },
  {
   "cell_type": "code",
   "execution_count": 92,
   "metadata": {},
   "outputs": [
    {
     "name": "stdout",
     "output_type": "stream",
     "text": [
      "Epoch 1/30\n",
      "503/503 [==============================] - 6s 10ms/step - loss: 1.1871 - accuracy: 0.5677 - val_loss: 0.7389 - val_accuracy: 0.7441\n",
      "Epoch 2/30\n",
      "503/503 [==============================] - 5s 10ms/step - loss: 0.4597 - accuracy: 0.8459 - val_loss: 0.4879 - val_accuracy: 0.8347\n",
      "Epoch 3/30\n",
      "503/503 [==============================] - 5s 10ms/step - loss: 0.2187 - accuracy: 0.9293 - val_loss: 0.4790 - val_accuracy: 0.8466\n",
      "Epoch 4/30\n",
      "503/503 [==============================] - 4s 8ms/step - loss: 0.1288 - accuracy: 0.9656 - val_loss: 0.5030 - val_accuracy: 0.8531\n",
      "Epoch 5/30\n",
      "503/503 [==============================] - 5s 9ms/step - loss: 0.0803 - accuracy: 0.9786 - val_loss: 0.5624 - val_accuracy: 0.8496\n",
      "Epoch 6/30\n",
      "503/503 [==============================] - 5s 9ms/step - loss: 0.0590 - accuracy: 0.9827 - val_loss: 0.6053 - val_accuracy: 0.8455\n",
      "Epoch 7/30\n",
      "503/503 [==============================] - 4s 9ms/step - loss: 0.0424 - accuracy: 0.9874 - val_loss: 0.6656 - val_accuracy: 0.8459\n",
      "Epoch 8/30\n",
      "503/503 [==============================] - 4s 8ms/step - loss: 0.0335 - accuracy: 0.9901 - val_loss: 0.6948 - val_accuracy: 0.8429\n",
      "Epoch 9/30\n",
      "503/503 [==============================] - 4s 7ms/step - loss: 0.0300 - accuracy: 0.9915 - val_loss: 0.7556 - val_accuracy: 0.8377\n",
      "Epoch 10/30\n",
      "503/503 [==============================] - 3s 6ms/step - loss: 0.0254 - accuracy: 0.9919 - val_loss: 0.8117 - val_accuracy: 0.8354\n",
      "Epoch 11/30\n",
      "503/503 [==============================] - 3s 7ms/step - loss: 0.0221 - accuracy: 0.9933 - val_loss: 0.8294 - val_accuracy: 0.8347\n",
      "Epoch 12/30\n",
      "503/503 [==============================] - 4s 7ms/step - loss: 0.0227 - accuracy: 0.9929 - val_loss: 0.9072 - val_accuracy: 0.8296\n",
      "Epoch 13/30\n",
      "503/503 [==============================] - 4s 7ms/step - loss: 0.0237 - accuracy: 0.9920 - val_loss: 0.9191 - val_accuracy: 0.8274\n",
      "Epoch 14/30\n",
      "503/503 [==============================] - 4s 9ms/step - loss: 0.0312 - accuracy: 0.9888 - val_loss: 0.9822 - val_accuracy: 0.8295\n",
      "Epoch 15/30\n",
      "503/503 [==============================] - 4s 9ms/step - loss: 0.0294 - accuracy: 0.9896 - val_loss: 0.9868 - val_accuracy: 0.8330\n",
      "Epoch 16/30\n",
      "503/503 [==============================] - 4s 8ms/step - loss: 0.0199 - accuracy: 0.9928 - val_loss: 1.0061 - val_accuracy: 0.8281\n",
      "Epoch 17/30\n",
      "503/503 [==============================] - 4s 8ms/step - loss: 0.0160 - accuracy: 0.9938 - val_loss: 1.0292 - val_accuracy: 0.8274\n",
      "Epoch 18/30\n",
      "503/503 [==============================] - 5s 9ms/step - loss: 0.0159 - accuracy: 0.9941 - val_loss: 1.0609 - val_accuracy: 0.8287\n",
      "Epoch 19/30\n",
      "503/503 [==============================] - 4s 8ms/step - loss: 0.0155 - accuracy: 0.9939 - val_loss: 1.0853 - val_accuracy: 0.8246\n",
      "Epoch 20/30\n",
      "503/503 [==============================] - 4s 8ms/step - loss: 0.0165 - accuracy: 0.9936 - val_loss: 1.0827 - val_accuracy: 0.8252\n",
      "Epoch 21/30\n",
      "503/503 [==============================] - 4s 7ms/step - loss: 0.0148 - accuracy: 0.9944 - val_loss: 1.1277 - val_accuracy: 0.8259\n",
      "Epoch 22/30\n",
      "503/503 [==============================] - 3s 7ms/step - loss: 0.0140 - accuracy: 0.9948 - val_loss: 1.1516 - val_accuracy: 0.8212\n",
      "Epoch 23/30\n",
      "503/503 [==============================] - 3s 7ms/step - loss: 0.0147 - accuracy: 0.9946 - val_loss: 1.1986 - val_accuracy: 0.8192\n",
      "Epoch 24/30\n",
      "503/503 [==============================] - 4s 8ms/step - loss: 0.0199 - accuracy: 0.9929 - val_loss: 1.2333 - val_accuracy: 0.8155\n",
      "Epoch 25/30\n",
      "503/503 [==============================] - 3s 6ms/step - loss: 0.0185 - accuracy: 0.9935 - val_loss: 1.2082 - val_accuracy: 0.8170\n",
      "Epoch 26/30\n",
      "503/503 [==============================] - 3s 6ms/step - loss: 0.0131 - accuracy: 0.9945 - val_loss: 1.2623 - val_accuracy: 0.8157\n",
      "Epoch 27/30\n",
      "503/503 [==============================] - 4s 7ms/step - loss: 0.0130 - accuracy: 0.9948 - val_loss: 1.2895 - val_accuracy: 0.8153\n",
      "Epoch 28/30\n",
      "503/503 [==============================] - 3s 7ms/step - loss: 0.0113 - accuracy: 0.9953 - val_loss: 1.2565 - val_accuracy: 0.8162\n",
      "Epoch 29/30\n",
      "503/503 [==============================] - 4s 8ms/step - loss: 0.0111 - accuracy: 0.9958 - val_loss: 1.2924 - val_accuracy: 0.8121\n",
      "Epoch 30/30\n",
      "503/503 [==============================] - 4s 8ms/step - loss: 0.0108 - accuracy: 0.9956 - val_loss: 1.3832 - val_accuracy: 0.8140\n"
     ]
    }
   ],
   "source": [
    "history = model.fit(X_matrix_train, y_matrix_train, validation_data=(X_matrix_test, y_matrix_test), epochs=30, batch_size=32)"
   ]
  },
  {
   "cell_type": "code",
   "execution_count": 93,
   "metadata": {},
   "outputs": [],
   "source": [
    "def plot_history(history):\n",
    "    acc = history.history['accuracy']\n",
    "    val_acc = history.history['val_accuracy']\n",
    "    loss = history.history['loss']\n",
    "    val_loss = history.history['val_loss']\n",
    "    x = range(1, len(acc) + 1)\n",
    "\n",
    "    plt.figure(figsize=(12, 5))\n",
    "    plt.subplot(1, 2, 1)\n",
    "    plt.plot(x, acc, 'b', label='Training acc')\n",
    "    plt.plot(x, val_acc, 'r', label='Validation acc')\n",
    "    plt.title('Training and validation accuracy')\n",
    "    plt.legend()\n",
    "    plt.subplot(1, 2, 2)\n",
    "    plt.plot(x, loss, 'b', label='Training loss')\n",
    "    plt.plot(x, val_loss, 'r', label='Validation loss')\n",
    "    plt.title('Training and validation loss')\n",
    "    plt.legend()"
   ]
  },
  {
   "cell_type": "code",
   "execution_count": 94,
   "metadata": {},
   "outputs": [
    {
     "data": {
      "image/png": "[encoded data removed]",
      "text/plain": [
       "<Figure size 864x360 with 2 Axes>"
      ]
     },
     "metadata": {},
     "output_type": "display_data"
    }
   ],
   "source": [
    "plot_history(history)"
   ]
  },
  {
   "cell_type": "code",
   "execution_count": 95,
   "metadata": {},
   "outputs": [
    {
     "name": "stdout",
     "output_type": "stream",
     "text": [
      "Test loss: 1.383216142654419\n",
      "Test accuracy: 0.8139795064926147\n"
     ]
    }
   ],
   "source": [
    "score = model.evaluate(X_matrix_test, y_matrix_test, verbose=0)\n",
    "print(\"Test loss:\", score[0])\n",
    "print(\"Test accuracy:\", score[1])"
   ]
  },
  {
   "cell_type": "code",
   "execution_count": null,
   "metadata": {},
   "outputs": [],
   "source": []
  }
 ],
 "metadata": {
  "interpreter": {
   "hash": "b4f38127354bbbf11134e8c14cc17daac7b35e8faaf836cc12d7980bb5480b10"
  },
  "kernelspec": {
   "display_name": "Python 3.10.4 ('datascience')",
   "language": "python",
   "name": "python3"
  },
  "language_info": {
   "codemirror_mode": {
    "name": "ipython",
    "version": 3
   },
   "file_extension": ".py",
   "mimetype": "text/x-python",
   "name": "python",
   "nbconvert_exporter": "python",
   "pygments_lexer": "ipython3",
   "version": "3.10.4"
  },
  "orig_nbformat": 4
 },
 "nbformat": 4,
 "nbformat_minor": 2
}
